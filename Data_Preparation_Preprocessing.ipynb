{
 "cells": [
  {
   "cell_type": "code",
   "execution_count": 25,
   "id": "13c84eec",
   "metadata": {},
   "outputs": [],
   "source": [
    "import pandas as pd\n",
    "import numpy as np\n",
    "import matplotlib.pyplot as plt\n",
    "import seaborn as sns\n",
    "import sklearn"
   ]
  },
  {
   "cell_type": "code",
   "execution_count": 26,
   "id": "ab036b4e",
   "metadata": {},
   "outputs": [],
   "source": [
    "df_product_data = pd.read_csv(r\"C:\\Users\\ujair shaha\\Desktop\\Projects\\Product Recommendation System\\walmart_data.tsv\",sep='\\t')"
   ]
  },
  {
   "cell_type": "code",
   "execution_count": 27,
   "id": "891d1c46",
   "metadata": {},
   "outputs": [
    {
     "data": {
      "text/html": [
       "<div>\n",
       "<style scoped>\n",
       "    .dataframe tbody tr th:only-of-type {\n",
       "        vertical-align: middle;\n",
       "    }\n",
       "\n",
       "    .dataframe tbody tr th {\n",
       "        vertical-align: top;\n",
       "    }\n",
       "\n",
       "    .dataframe thead th {\n",
       "        text-align: right;\n",
       "    }\n",
       "</style>\n",
       "<table border=\"1\" class=\"dataframe\">\n",
       "  <thead>\n",
       "    <tr style=\"text-align: right;\">\n",
       "      <th></th>\n",
       "      <th>Uniq Id</th>\n",
       "      <th>Crawl Timestamp</th>\n",
       "      <th>Dataset Origin</th>\n",
       "      <th>Product Id</th>\n",
       "      <th>Product Barcode</th>\n",
       "      <th>Product Company Type Source</th>\n",
       "      <th>Product Brand Source</th>\n",
       "      <th>Product Brand Normalised Source</th>\n",
       "      <th>Product Name Source</th>\n",
       "      <th>Match Rank</th>\n",
       "      <th>...</th>\n",
       "      <th>Product Currency</th>\n",
       "      <th>Product Available Inventory</th>\n",
       "      <th>Product Image Url</th>\n",
       "      <th>Product Model Number</th>\n",
       "      <th>Product Tags</th>\n",
       "      <th>Product Contents</th>\n",
       "      <th>Product Rating</th>\n",
       "      <th>Product Reviews Count</th>\n",
       "      <th>Bsr</th>\n",
       "      <th>Joining Key</th>\n",
       "    </tr>\n",
       "  </thead>\n",
       "  <tbody>\n",
       "    <tr>\n",
       "      <th>0</th>\n",
       "      <td>1705736792d82aa2f2d3caf1c07c53f4</td>\n",
       "      <td>2020-09-24 03:21:12 +0000</td>\n",
       "      <td>NaN</td>\n",
       "      <td>2e17bf4acecdece67fc00f07ad62c910</td>\n",
       "      <td>NaN</td>\n",
       "      <td>Competitor</td>\n",
       "      <td>NaN</td>\n",
       "      <td>NaN</td>\n",
       "      <td>NaN</td>\n",
       "      <td>NaN</td>\n",
       "      <td>...</td>\n",
       "      <td>USD</td>\n",
       "      <td>111111111</td>\n",
       "      <td>https://i5.walmartimages.com/asr/0e1f4c51-c1a4...</td>\n",
       "      <td>NaN</td>\n",
       "      <td>OPI Infinite Shine, Nail Lacquer Nail Polish, ...</td>\n",
       "      <td>NaN</td>\n",
       "      <td>NaN</td>\n",
       "      <td>NaN</td>\n",
       "      <td>NaN</td>\n",
       "      <td>81350af1be98d3753cf964709f0c766a</td>\n",
       "    </tr>\n",
       "    <tr>\n",
       "      <th>1</th>\n",
       "      <td>95a9fe6f4810fcfc7ff244fd06784f11</td>\n",
       "      <td>2020-10-30 14:04:08 +0000</td>\n",
       "      <td>NaN</td>\n",
       "      <td>076e5854a62dd283c253d6bae415af1f</td>\n",
       "      <td>NaN</td>\n",
       "      <td>Competitor</td>\n",
       "      <td>NaN</td>\n",
       "      <td>NaN</td>\n",
       "      <td>NaN</td>\n",
       "      <td>NaN</td>\n",
       "      <td>...</td>\n",
       "      <td>USD</td>\n",
       "      <td>111111111</td>\n",
       "      <td>https://i5.walmartimages.com/asr/9c8e42e4-13a5...</td>\n",
       "      <td>NaN</td>\n",
       "      <td>Nice 'n Easy Permanent Color, 111 Natural Medi...</td>\n",
       "      <td>NaN</td>\n",
       "      <td>NaN</td>\n",
       "      <td>NaN</td>\n",
       "      <td>NaN</td>\n",
       "      <td>0353e63907dc0de0c734db4690300057</td>\n",
       "    </tr>\n",
       "    <tr>\n",
       "      <th>2</th>\n",
       "      <td>8d4d0330178d3ed181b15a4102b287f2</td>\n",
       "      <td>2020-08-06 05:51:47 +0000</td>\n",
       "      <td>NaN</td>\n",
       "      <td>8a4fe5d9c7a6ed26cc44d785a454b124</td>\n",
       "      <td>NaN</td>\n",
       "      <td>Competitor</td>\n",
       "      <td>NaN</td>\n",
       "      <td>NaN</td>\n",
       "      <td>NaN</td>\n",
       "      <td>NaN</td>\n",
       "      <td>...</td>\n",
       "      <td>USD</td>\n",
       "      <td>111111111</td>\n",
       "      <td>https://i5.walmartimages.com/asr/e3a601c2-6a2b...</td>\n",
       "      <td>NaN</td>\n",
       "      <td>Clairol Nice 'N Easy Permanent Color 7/106A Na...</td>\n",
       "      <td>NaN</td>\n",
       "      <td>4.5</td>\n",
       "      <td>29221.0</td>\n",
       "      <td>NaN</td>\n",
       "      <td>b6985c8e94815fbca2319dbb8bf228af</td>\n",
       "    </tr>\n",
       "    <tr>\n",
       "      <th>3</th>\n",
       "      <td>fddc4df45b35efd886794b261f730c51</td>\n",
       "      <td>2020-07-15 11:22:04 +0000</td>\n",
       "      <td>NaN</td>\n",
       "      <td>03b5fb878a33eadff8b033419eab9669</td>\n",
       "      <td>NaN</td>\n",
       "      <td>Competitor</td>\n",
       "      <td>NaN</td>\n",
       "      <td>NaN</td>\n",
       "      <td>NaN</td>\n",
       "      <td>NaN</td>\n",
       "      <td>...</td>\n",
       "      <td>USD</td>\n",
       "      <td>111111111</td>\n",
       "      <td>https://i5.walmartimages.com/asr/25b4b467-bc61...</td>\n",
       "      <td>NaN</td>\n",
       "      <td>Kokie Professional Matte Lipstick, Hot Berry, ...</td>\n",
       "      <td>NaN</td>\n",
       "      <td>NaN</td>\n",
       "      <td>NaN</td>\n",
       "      <td>NaN</td>\n",
       "      <td>85b70fded09186f00467cea2f935b779</td>\n",
       "    </tr>\n",
       "    <tr>\n",
       "      <th>4</th>\n",
       "      <td>0990cf89a59ca6a0460349a3e4f51d42</td>\n",
       "      <td>2020-11-26T12:27:20+00:00</td>\n",
       "      <td>NaN</td>\n",
       "      <td>ce3d761e57d6ccad80619297b5b1bcbc</td>\n",
       "      <td>NaN</td>\n",
       "      <td>Competitor</td>\n",
       "      <td>NaN</td>\n",
       "      <td>NaN</td>\n",
       "      <td>NaN</td>\n",
       "      <td>NaN</td>\n",
       "      <td>...</td>\n",
       "      <td>USD</td>\n",
       "      <td>111111111</td>\n",
       "      <td>https://i5.walmartimages.com/asr/1a2ebb06-cd01...</td>\n",
       "      <td>NaN</td>\n",
       "      <td>Gillette TRAC II Plus Razor Blade Refills, Fit...</td>\n",
       "      <td>NaN</td>\n",
       "      <td>NaN</td>\n",
       "      <td>131.0</td>\n",
       "      <td>NaN</td>\n",
       "      <td>41c870871328e97da6fb036bb7d4b2da</td>\n",
       "    </tr>\n",
       "  </tbody>\n",
       "</table>\n",
       "<p>5 rows × 32 columns</p>\n",
       "</div>"
      ],
      "text/plain": [
       "                            Uniq Id            Crawl Timestamp  \\\n",
       "0  1705736792d82aa2f2d3caf1c07c53f4  2020-09-24 03:21:12 +0000   \n",
       "1  95a9fe6f4810fcfc7ff244fd06784f11  2020-10-30 14:04:08 +0000   \n",
       "2  8d4d0330178d3ed181b15a4102b287f2  2020-08-06 05:51:47 +0000   \n",
       "3  fddc4df45b35efd886794b261f730c51  2020-07-15 11:22:04 +0000   \n",
       "4  0990cf89a59ca6a0460349a3e4f51d42  2020-11-26T12:27:20+00:00   \n",
       "\n",
       "   Dataset Origin                        Product Id  Product Barcode  \\\n",
       "0             NaN  2e17bf4acecdece67fc00f07ad62c910              NaN   \n",
       "1             NaN  076e5854a62dd283c253d6bae415af1f              NaN   \n",
       "2             NaN  8a4fe5d9c7a6ed26cc44d785a454b124              NaN   \n",
       "3             NaN  03b5fb878a33eadff8b033419eab9669              NaN   \n",
       "4             NaN  ce3d761e57d6ccad80619297b5b1bcbc              NaN   \n",
       "\n",
       "  Product Company Type Source Product Brand Source  \\\n",
       "0                  Competitor                  NaN   \n",
       "1                  Competitor                  NaN   \n",
       "2                  Competitor                  NaN   \n",
       "3                  Competitor                  NaN   \n",
       "4                  Competitor                  NaN   \n",
       "\n",
       "  Product Brand Normalised Source Product Name Source  Match Rank  ...  \\\n",
       "0                             NaN                 NaN         NaN  ...   \n",
       "1                             NaN                 NaN         NaN  ...   \n",
       "2                             NaN                 NaN         NaN  ...   \n",
       "3                             NaN                 NaN         NaN  ...   \n",
       "4                             NaN                 NaN         NaN  ...   \n",
       "\n",
       "   Product Currency  Product Available Inventory  \\\n",
       "0               USD                    111111111   \n",
       "1               USD                    111111111   \n",
       "2               USD                    111111111   \n",
       "3               USD                    111111111   \n",
       "4               USD                    111111111   \n",
       "\n",
       "                                   Product Image Url Product Model Number  \\\n",
       "0  https://i5.walmartimages.com/asr/0e1f4c51-c1a4...                  NaN   \n",
       "1  https://i5.walmartimages.com/asr/9c8e42e4-13a5...                  NaN   \n",
       "2  https://i5.walmartimages.com/asr/e3a601c2-6a2b...                  NaN   \n",
       "3  https://i5.walmartimages.com/asr/25b4b467-bc61...                  NaN   \n",
       "4  https://i5.walmartimages.com/asr/1a2ebb06-cd01...                  NaN   \n",
       "\n",
       "                                        Product Tags Product Contents  \\\n",
       "0  OPI Infinite Shine, Nail Lacquer Nail Polish, ...              NaN   \n",
       "1  Nice 'n Easy Permanent Color, 111 Natural Medi...              NaN   \n",
       "2  Clairol Nice 'N Easy Permanent Color 7/106A Na...              NaN   \n",
       "3  Kokie Professional Matte Lipstick, Hot Berry, ...              NaN   \n",
       "4  Gillette TRAC II Plus Razor Blade Refills, Fit...              NaN   \n",
       "\n",
       "   Product Rating  Product Reviews Count  Bsr  \\\n",
       "0             NaN                    NaN  NaN   \n",
       "1             NaN                    NaN  NaN   \n",
       "2             4.5                29221.0  NaN   \n",
       "3             NaN                    NaN  NaN   \n",
       "4             NaN                  131.0  NaN   \n",
       "\n",
       "                        Joining Key  \n",
       "0  81350af1be98d3753cf964709f0c766a  \n",
       "1  0353e63907dc0de0c734db4690300057  \n",
       "2  b6985c8e94815fbca2319dbb8bf228af  \n",
       "3  85b70fded09186f00467cea2f935b779  \n",
       "4  41c870871328e97da6fb036bb7d4b2da  \n",
       "\n",
       "[5 rows x 32 columns]"
      ]
     },
     "execution_count": 27,
     "metadata": {},
     "output_type": "execute_result"
    }
   ],
   "source": [
    "df_product_data.head()"
   ]
  },
  {
   "cell_type": "code",
   "execution_count": 28,
   "id": "dfd04e25",
   "metadata": {},
   "outputs": [
    {
     "data": {
      "text/plain": [
       "Index(['Uniq Id', 'Crawl Timestamp', 'Dataset Origin', 'Product Id',\n",
       "       'Product Barcode', 'Product Company Type Source',\n",
       "       'Product Brand Source', 'Product Brand Normalised Source',\n",
       "       'Product Name Source', 'Match Rank', 'Match Score', 'Match Type',\n",
       "       'Retailer', 'Product Category', 'Product Brand', 'Product Name',\n",
       "       'Product Price', 'Sku', 'Upc', 'Product Url', 'Market',\n",
       "       'Product Description', 'Product Currency',\n",
       "       'Product Available Inventory', 'Product Image Url',\n",
       "       'Product Model Number', 'Product Tags', 'Product Contents',\n",
       "       'Product Rating', 'Product Reviews Count', 'Bsr', 'Joining Key'],\n",
       "      dtype='object')"
      ]
     },
     "execution_count": 28,
     "metadata": {},
     "output_type": "execute_result"
    }
   ],
   "source": [
    "df_product_data.columns"
   ]
  },
  {
   "cell_type": "code",
   "execution_count": 29,
   "id": "0e638eb8",
   "metadata": {},
   "outputs": [
    {
     "data": {
      "text/plain": [
       "(5000, 32)"
      ]
     },
     "execution_count": 29,
     "metadata": {},
     "output_type": "execute_result"
    }
   ],
   "source": [
    "df_product_data.shape"
   ]
  },
  {
   "cell_type": "code",
   "execution_count": null,
   "id": "206c322d",
   "metadata": {},
   "outputs": [],
   "source": [
    "# Selecting Required Features in from data.. 10 Features\n",
    "#[['Uniq Id','Product Id', 'Product Rating', 'Product Reviews Count', 'Product Category', 'Product Brand', 'Product Name', 'Product Image Url', 'Product Description', 'Product Tags']]\n"
   ]
  },
  {
   "cell_type": "code",
   "execution_count": 31,
   "id": "cc0ed1b2",
   "metadata": {},
   "outputs": [
    {
     "data": {
      "text/html": [
       "<div>\n",
       "<style scoped>\n",
       "    .dataframe tbody tr th:only-of-type {\n",
       "        vertical-align: middle;\n",
       "    }\n",
       "\n",
       "    .dataframe tbody tr th {\n",
       "        vertical-align: top;\n",
       "    }\n",
       "\n",
       "    .dataframe thead th {\n",
       "        text-align: right;\n",
       "    }\n",
       "</style>\n",
       "<table border=\"1\" class=\"dataframe\">\n",
       "  <thead>\n",
       "    <tr style=\"text-align: right;\">\n",
       "      <th></th>\n",
       "      <th>Product Id</th>\n",
       "      <th>Product Category</th>\n",
       "      <th>Product Brand</th>\n",
       "      <th>Product Name</th>\n",
       "      <th>Product Image Url</th>\n",
       "      <th>Product Description</th>\n",
       "      <th>Product Tags</th>\n",
       "    </tr>\n",
       "  </thead>\n",
       "  <tbody>\n",
       "    <tr>\n",
       "      <th>0</th>\n",
       "      <td>2e17bf4acecdece67fc00f07ad62c910</td>\n",
       "      <td>Premium Beauty &gt; Premium Makeup &gt; Premium Nail...</td>\n",
       "      <td>OPI</td>\n",
       "      <td>OPI Infinite Shine, Nail Lacquer Nail Polish, ...</td>\n",
       "      <td>https://i5.walmartimages.com/asr/0e1f4c51-c1a4...</td>\n",
       "      <td>NaN</td>\n",
       "      <td>OPI Infinite Shine, Nail Lacquer Nail Polish, ...</td>\n",
       "    </tr>\n",
       "    <tr>\n",
       "      <th>1</th>\n",
       "      <td>076e5854a62dd283c253d6bae415af1f</td>\n",
       "      <td>Beauty &gt; Hair Care &gt; Hair Color &gt; Auburn Hair ...</td>\n",
       "      <td>Nice'n Easy</td>\n",
       "      <td>Nice n Easy Permanent Color, 111 Natural Mediu...</td>\n",
       "      <td>https://i5.walmartimages.com/asr/9c8e42e4-13a5...</td>\n",
       "      <td>Pack of 3 Pack of 3 for the UPC: 381519000201 ...</td>\n",
       "      <td>Nice 'n Easy Permanent Color, 111 Natural Medi...</td>\n",
       "    </tr>\n",
       "    <tr>\n",
       "      <th>2</th>\n",
       "      <td>8a4fe5d9c7a6ed26cc44d785a454b124</td>\n",
       "      <td>Beauty &gt; Hair Care &gt; Hair Color &gt; Permanent Ha...</td>\n",
       "      <td>Clairol</td>\n",
       "      <td>Clairol Nice N Easy Permanent Color 7/106A Nat...</td>\n",
       "      <td>https://i5.walmartimages.com/asr/e3a601c2-6a2b...</td>\n",
       "      <td>This Clairol Nice N Easy Permanent Color gives...</td>\n",
       "      <td>Clairol Nice 'N Easy Permanent Color 7/106A Na...</td>\n",
       "    </tr>\n",
       "  </tbody>\n",
       "</table>\n",
       "</div>"
      ],
      "text/plain": [
       "                         Product Id  \\\n",
       "0  2e17bf4acecdece67fc00f07ad62c910   \n",
       "1  076e5854a62dd283c253d6bae415af1f   \n",
       "2  8a4fe5d9c7a6ed26cc44d785a454b124   \n",
       "\n",
       "                                    Product Category Product Brand  \\\n",
       "0  Premium Beauty > Premium Makeup > Premium Nail...           OPI   \n",
       "1  Beauty > Hair Care > Hair Color > Auburn Hair ...   Nice'n Easy   \n",
       "2  Beauty > Hair Care > Hair Color > Permanent Ha...       Clairol   \n",
       "\n",
       "                                        Product Name  \\\n",
       "0  OPI Infinite Shine, Nail Lacquer Nail Polish, ...   \n",
       "1  Nice n Easy Permanent Color, 111 Natural Mediu...   \n",
       "2  Clairol Nice N Easy Permanent Color 7/106A Nat...   \n",
       "\n",
       "                                   Product Image Url  \\\n",
       "0  https://i5.walmartimages.com/asr/0e1f4c51-c1a4...   \n",
       "1  https://i5.walmartimages.com/asr/9c8e42e4-13a5...   \n",
       "2  https://i5.walmartimages.com/asr/e3a601c2-6a2b...   \n",
       "\n",
       "                                 Product Description  \\\n",
       "0                                                NaN   \n",
       "1  Pack of 3 Pack of 3 for the UPC: 381519000201 ...   \n",
       "2  This Clairol Nice N Easy Permanent Color gives...   \n",
       "\n",
       "                                        Product Tags  \n",
       "0  OPI Infinite Shine, Nail Lacquer Nail Polish, ...  \n",
       "1  Nice 'n Easy Permanent Color, 111 Natural Medi...  \n",
       "2  Clairol Nice 'N Easy Permanent Color 7/106A Na...  "
      ]
     },
     "execution_count": 31,
     "metadata": {},
     "output_type": "execute_result"
    }
   ],
   "source": [
    "df_product_data = df_product_data[['Product Id', 'Product Category', 'Product Brand', 'Product Name', 'Product Image Url', 'Product Description', 'Product Tags']]\n",
    "df_product_data.head(3)"
   ]
  },
  {
   "cell_type": "code",
   "execution_count": 32,
   "id": "23aad247",
   "metadata": {},
   "outputs": [
    {
     "data": {
      "text/html": [
       "<div>\n",
       "<style scoped>\n",
       "    .dataframe tbody tr th:only-of-type {\n",
       "        vertical-align: middle;\n",
       "    }\n",
       "\n",
       "    .dataframe tbody tr th {\n",
       "        vertical-align: top;\n",
       "    }\n",
       "\n",
       "    .dataframe thead th {\n",
       "        text-align: right;\n",
       "    }\n",
       "</style>\n",
       "<table border=\"1\" class=\"dataframe\">\n",
       "  <thead>\n",
       "    <tr style=\"text-align: right;\">\n",
       "      <th></th>\n",
       "      <th>Product Id</th>\n",
       "      <th>Product Category</th>\n",
       "      <th>Product Brand</th>\n",
       "      <th>Product Name</th>\n",
       "      <th>Product Image Url</th>\n",
       "      <th>Product Description</th>\n",
       "      <th>Product Tags</th>\n",
       "    </tr>\n",
       "  </thead>\n",
       "  <tbody>\n",
       "    <tr>\n",
       "      <th>count</th>\n",
       "      <td>5000</td>\n",
       "      <td>4990</td>\n",
       "      <td>4987</td>\n",
       "      <td>5000</td>\n",
       "      <td>5000</td>\n",
       "      <td>3873</td>\n",
       "      <td>5000</td>\n",
       "    </tr>\n",
       "    <tr>\n",
       "      <th>unique</th>\n",
       "      <td>4802</td>\n",
       "      <td>988</td>\n",
       "      <td>1600</td>\n",
       "      <td>4921</td>\n",
       "      <td>4945</td>\n",
       "      <td>3759</td>\n",
       "      <td>4921</td>\n",
       "    </tr>\n",
       "    <tr>\n",
       "      <th>top</th>\n",
       "      <td>0001111104242179400000002000000000067846570US</td>\n",
       "      <td>Personal Care &gt; Bath &amp; Body &gt; Hand Soaps</td>\n",
       "      <td>L'Oreal Paris</td>\n",
       "      <td>TOMS OF MAINE Fluoride Whitening Toothpaste Fr...</td>\n",
       "      <td>https://i5.walmartimages.com/asr/5bef8491-d0bc...</td>\n",
       "      <td>Achieve professional-looking results from the ...</td>\n",
       "      <td>TOM'S OF MAINE Fluoride Whitening Toothpaste F...</td>\n",
       "    </tr>\n",
       "    <tr>\n",
       "      <th>freq</th>\n",
       "      <td>30</td>\n",
       "      <td>138</td>\n",
       "      <td>109</td>\n",
       "      <td>7</td>\n",
       "      <td>3</td>\n",
       "      <td>8</td>\n",
       "      <td>7</td>\n",
       "    </tr>\n",
       "  </tbody>\n",
       "</table>\n",
       "</div>"
      ],
      "text/plain": [
       "                                           Product Id  \\\n",
       "count                                            5000   \n",
       "unique                                           4802   \n",
       "top     0001111104242179400000002000000000067846570US   \n",
       "freq                                               30   \n",
       "\n",
       "                                Product Category  Product Brand  \\\n",
       "count                                       4990           4987   \n",
       "unique                                       988           1600   \n",
       "top     Personal Care > Bath & Body > Hand Soaps  L'Oreal Paris   \n",
       "freq                                         138            109   \n",
       "\n",
       "                                             Product Name  \\\n",
       "count                                                5000   \n",
       "unique                                               4921   \n",
       "top     TOMS OF MAINE Fluoride Whitening Toothpaste Fr...   \n",
       "freq                                                    7   \n",
       "\n",
       "                                        Product Image Url  \\\n",
       "count                                                5000   \n",
       "unique                                               4945   \n",
       "top     https://i5.walmartimages.com/asr/5bef8491-d0bc...   \n",
       "freq                                                    3   \n",
       "\n",
       "                                      Product Description  \\\n",
       "count                                                3873   \n",
       "unique                                               3759   \n",
       "top     Achieve professional-looking results from the ...   \n",
       "freq                                                    8   \n",
       "\n",
       "                                             Product Tags  \n",
       "count                                                5000  \n",
       "unique                                               4921  \n",
       "top     TOM'S OF MAINE Fluoride Whitening Toothpaste F...  \n",
       "freq                                                    7  "
      ]
     },
     "execution_count": 32,
     "metadata": {},
     "output_type": "execute_result"
    }
   ],
   "source": [
    "df_product_data.describe()"
   ]
  },
  {
   "cell_type": "code",
   "execution_count": 33,
   "id": "ae277abb",
   "metadata": {},
   "outputs": [
    {
     "name": "stdout",
     "output_type": "stream",
     "text": [
      "<class 'pandas.core.frame.DataFrame'>\n",
      "RangeIndex: 5000 entries, 0 to 4999\n",
      "Data columns (total 7 columns):\n",
      " #   Column               Non-Null Count  Dtype \n",
      "---  ------               --------------  ----- \n",
      " 0   Product Id           5000 non-null   object\n",
      " 1   Product Category     4990 non-null   object\n",
      " 2   Product Brand        4987 non-null   object\n",
      " 3   Product Name         5000 non-null   object\n",
      " 4   Product Image Url    5000 non-null   object\n",
      " 5   Product Description  3873 non-null   object\n",
      " 6   Product Tags         5000 non-null   object\n",
      "dtypes: object(7)\n",
      "memory usage: 273.6+ KB\n"
     ]
    }
   ],
   "source": [
    "df_product_data.info()"
   ]
  },
  {
   "cell_type": "code",
   "execution_count": 33,
   "id": "80161289",
   "metadata": {},
   "outputs": [
    {
     "data": {
      "text/plain": [
       "0     Premium Beauty > Premium Makeup > Premium Nail...\n",
       "1     Beauty > Hair Care > Hair Color > Auburn Hair ...\n",
       "2     Beauty > Hair Care > Hair Color > Permanent Ha...\n",
       "3                                 Beauty > Makeup > Lip\n",
       "4     Seasonal > Stock Up Essentials > Personal Care...\n",
       "5     Beauty > Hair Care > Hair Care Brands > Old Sp...\n",
       "6            Personal Care > Oral Care > Kids Oral Care\n",
       "7                               Beauty > Makeup > Nails\n",
       "8         Beauty > Hair Care > Hair Care Brands > Suave\n",
       "9                          Health > Lip Care > Vaseline\n",
       "10                         Seasonal > Last Minute Gifts\n",
       "11      Beauty > Nail Care > Nail Polish > Nail Lacquer\n",
       "12          Beauty > Makeup > Face Makeup > Face Primer\n",
       "13    Personal Care > Restock & Save On Hair Care > ...\n",
       "14    Seasonal > Clean Living Shop > Wellness Clean ...\n",
       "15    Beauty > Hair Care > Hair Color > Auburn Hair ...\n",
       "16    Premium Beauty > Premium Bath & Body > Premium...\n",
       "17    Home > Decor > Candles & Home Fragrance > Oil ...\n",
       "18    Beauty > Beauty by Top Brands > Hard Candy > H...\n",
       "19       Personal Care > Personal Care by Brand > Crest\n",
       "20    Beauty > Hair Care > Hair Color > Permanent Ha...\n",
       "21    Patio & Garden > Garden Center > Insect & Pest...\n",
       "22           Personal Care > Oral Care > Kids Oral Care\n",
       "23    Household Essentials > Air Fresheners > Car Ai...\n",
       "24    Personal Care > Bath & Body > Body Lotions & C...\n",
       "25    Home > Decor > Candles & Home Fragrance > Oil ...\n",
       "26    Beauty > Skin Care > Facial Cleansers > Cetaph...\n",
       "27    Personal Care > Feminine Care > All Feminine Care\n",
       "28    Premium Beauty > Premium Facial Skincare > Pre...\n",
       "29    Health > Vitamins & Supplements > Minerals > M...\n",
       "30    Personal Care > Bath & Body > Hand Lotions & C...\n",
       "31    Beauty > Hair Care > Conditioner > Dandruff Co...\n",
       "32       Personal Care > Personal Care by Brand > Crest\n",
       "33           Personal Care > Oral Care > Kids Oral Care\n",
       "34                    Personal Care > Oral Care > Crest\n",
       "35       Personal Care > Personal Care by Brand > Crest\n",
       "36    Household Essentials > Cleaning Supplies > Sur...\n",
       "37    Personal Care > Personal Care by Brand > Wahl ...\n",
       "38    Seasonal > Stock Up Essentials > Personal Care...\n",
       "39    Household Essentials > Bathroom > Bathroom Cle...\n",
       "40         Beauty > The Curl Shop > Coily Hair Products\n",
       "41      Personal Care > Incontinence > All Incontinence\n",
       "42      Personal Care > Incontinence > All Incontinence\n",
       "43    Household Essentials > Cleaning Supplies > Dis...\n",
       "44       Personal Care > Personal Care by Brand > Crest\n",
       "45    Beauty > Hair Care > Hair Color > Permanent Ha...\n",
       "46       Personal Care > Personal Care by Brand > Crest\n",
       "47          Beauty > Premium Beauty > Premium Hair Care\n",
       "48    Beauty > Hair Care > Conditioner > Leave In Co...\n",
       "49    Premium Beauty > Premium Bath & Body > Premium...\n",
       "Name: Product Category, dtype: object"
      ]
     },
     "execution_count": 33,
     "metadata": {},
     "output_type": "execute_result"
    }
   ],
   "source": [
    "df_product_data['Product Category'].head(50)"
   ]
  },
  {
   "cell_type": "code",
   "execution_count": 34,
   "id": "26f0535c",
   "metadata": {},
   "outputs": [
    {
     "data": {
      "text/plain": [
       "Product Id                0\n",
       "Product Category         10\n",
       "Product Brand            13\n",
       "Product Name              0\n",
       "Product Image Url         0\n",
       "Product Description    1127\n",
       "Product Tags              0\n",
       "dtype: int64"
      ]
     },
     "execution_count": 34,
     "metadata": {},
     "output_type": "execute_result"
    }
   ],
   "source": [
    "df_product_data.isnull().sum()"
   ]
  },
  {
   "cell_type": "code",
   "execution_count": 9,
   "id": "4341ce85",
   "metadata": {},
   "outputs": [],
   "source": [
    "df_product_data['Product Category'].fillna(df_product_data['Product Category'].mean(),inplace = True)"
   ]
  },
  {
   "cell_type": "code",
   "execution_count": 36,
   "id": "12574ba0",
   "metadata": {},
   "outputs": [],
   "source": [
    "df_product_data['Product Brand'].fillna('',inplace = True)"
   ]
  },
  {
   "cell_type": "code",
   "execution_count": 37,
   "id": "cfe792b4",
   "metadata": {},
   "outputs": [],
   "source": [
    "df_product_data['Product Description'].fillna('',inplace = True)"
   ]
  },
  {
   "cell_type": "code",
   "execution_count": 38,
   "id": "c2526b5d",
   "metadata": {},
   "outputs": [
    {
     "data": {
      "text/plain": [
       "Product Id             0\n",
       "Product Category       0\n",
       "Product Brand          0\n",
       "Product Name           0\n",
       "Product Image Url      0\n",
       "Product Description    0\n",
       "Product Tags           0\n",
       "dtype: int64"
      ]
     },
     "execution_count": 38,
     "metadata": {},
     "output_type": "execute_result"
    }
   ],
   "source": [
    "df_product_data.isnull().sum()"
   ]
  },
  {
   "cell_type": "code",
   "execution_count": 39,
   "id": "140658af",
   "metadata": {},
   "outputs": [],
   "source": [
    "# make columns shorter\n",
    "# Define the mapping of current column names to shorter names\n",
    "column_name_mapping = {\n",
    "    'Product Id': 'ProdID',\n",
    "    'Product Category': 'Category',\n",
    "    'Product Brand': 'Brand',\n",
    "    'Product Name': 'Name',\n",
    "    'Product Image Url': 'ImageURL',\n",
    "    'Product Description': 'Description',\n",
    "    'Product Tags': 'Tags',\n",
    "}\n",
    "# Rename the columns using the mapping\n",
    "df_product_data.rename(columns=column_name_mapping, inplace=True)"
   ]
  },
  {
   "cell_type": "code",
   "execution_count": 80,
   "id": "386288e7",
   "metadata": {},
   "outputs": [
    {
     "data": {
      "text/plain": [
       "Index(['ProdID', 'Category', 'Brand', 'Name', 'ImageURL', 'Description',\n",
       "       'Tags'],\n",
       "      dtype='object')"
      ]
     },
     "execution_count": 80,
     "metadata": {},
     "output_type": "execute_result"
    }
   ],
   "source": [
    "df_product_data.columns"
   ]
  },
  {
   "cell_type": "code",
   "execution_count": 84,
   "id": "24e9f29a",
   "metadata": {},
   "outputs": [
    {
     "data": {
      "text/plain": [
       "(6000, 7)"
      ]
     },
     "execution_count": 84,
     "metadata": {},
     "output_type": "execute_result"
    }
   ],
   "source": [
    "df_product_data.shape"
   ]
  },
  {
   "cell_type": "code",
   "execution_count": 46,
   "id": "fa68c626",
   "metadata": {},
   "outputs": [],
   "source": [
    "df_product_data = df_product_data.sample(n=3500, random_state=42)"
   ]
  },
  {
   "cell_type": "code",
   "execution_count": 19,
   "id": "61a8da24",
   "metadata": {},
   "outputs": [],
   "source": [
    "# df_product_data.to_csv('final_walmart_product_data.csv',index=False)"
   ]
  },
  {
   "cell_type": "code",
   "execution_count": 85,
   "id": "790cd34b",
   "metadata": {
    "scrolled": false
   },
   "outputs": [
    {
     "data": {
      "text/html": [
       "<div>\n",
       "<style scoped>\n",
       "    .dataframe tbody tr th:only-of-type {\n",
       "        vertical-align: middle;\n",
       "    }\n",
       "\n",
       "    .dataframe tbody tr th {\n",
       "        vertical-align: top;\n",
       "    }\n",
       "\n",
       "    .dataframe thead th {\n",
       "        text-align: right;\n",
       "    }\n",
       "</style>\n",
       "<table border=\"1\" class=\"dataframe\">\n",
       "  <thead>\n",
       "    <tr style=\"text-align: right;\">\n",
       "      <th></th>\n",
       "      <th>ProdID</th>\n",
       "      <th>Category</th>\n",
       "      <th>Brand</th>\n",
       "      <th>Name</th>\n",
       "      <th>ImageURL</th>\n",
       "      <th>Description</th>\n",
       "      <th>Tags</th>\n",
       "    </tr>\n",
       "  </thead>\n",
       "  <tbody>\n",
       "    <tr>\n",
       "      <th>0</th>\n",
       "      <td>43844b4d01b62ddf5b329af60afd243a</td>\n",
       "      <td>Personal Care &gt; Personal Care by Brand &gt; Crest</td>\n",
       "      <td>Crest</td>\n",
       "      <td>Crest Pls Sc Outlst Ex Wh Size 4z Crest Extra ...</td>\n",
       "      <td>https://i5.walmartimages.com/asr/8604b82d-4c15...</td>\n",
       "      <td>DetailsCrest Extra White Plus Outlast Toothpas...</td>\n",
       "      <td>Crest Pls Sc Outlst Ex Wh Size 4z Crest Extra ...</td>\n",
       "    </tr>\n",
       "    <tr>\n",
       "      <th>1</th>\n",
       "      <td>56182586933bbdea8c572b0af1af513b</td>\n",
       "      <td>Premium Beauty &gt; Premium Hair Care &gt; Premium H...</td>\n",
       "      <td>Kerastase</td>\n",
       "      <td>Kerastase Discipline Maskeratine, 500ml</td>\n",
       "      <td>https://i5.walmartimages.com/asr/0e200420-2b90...</td>\n",
       "      <td></td>\n",
       "      <td>Kerastase Discipline Maskeratine, 500ml, Wal-m...</td>\n",
       "    </tr>\n",
       "    <tr>\n",
       "      <th>2</th>\n",
       "      <td>446f1f57405d2df74e8d89a8dbd458ba</td>\n",
       "      <td>Health &gt; Protein &amp; Fitness &gt; Fuel Your Workout</td>\n",
       "      <td>Vega</td>\n",
       "      <td>Vega Protein Made Simple, Vanilla, 10 Servings...</td>\n",
       "      <td>https://i5.walmartimages.com/asr/0766d3dd-737c...</td>\n",
       "      <td>Whatâ€™s on the inside matters. Thatâ€™s why V...</td>\n",
       "      <td>Vega Protein Made Simple, Vanilla, 10 Servings...</td>\n",
       "    </tr>\n",
       "    <tr>\n",
       "      <th>3</th>\n",
       "      <td>658e17ace9dd43ba0541c590434eb34e</td>\n",
       "      <td>Premium Beauty &gt; Premium Makeup &gt; Premium Face...</td>\n",
       "      <td>Mac</td>\n",
       "      <td>MAC Mineralize Concealer, NW35</td>\n",
       "      <td>https://i5.walmartimages.com/asr/cffd0ed5-1d66...</td>\n",
       "      <td></td>\n",
       "      <td>MAC Mineralize Concealer, NW35, Wal-mart, Walm...</td>\n",
       "    </tr>\n",
       "    <tr>\n",
       "      <th>4</th>\n",
       "      <td>ca95004fec7e177cbbb8c735db5d4a82</td>\n",
       "      <td>Home &gt; Bath &gt; Bath Towels &gt; Washcloths</td>\n",
       "      <td>Prevail</td>\n",
       "      <td>Prevail Premium Quilted Adult Washcloths, 48 C...</td>\n",
       "      <td>https://i5.walmartimages.com/asr/f3c2a1c5-042d...</td>\n",
       "      <td></td>\n",
       "      <td>Prevail Premium Quilted Adult Washcloths, 48 C...</td>\n",
       "    </tr>\n",
       "  </tbody>\n",
       "</table>\n",
       "</div>"
      ],
      "text/plain": [
       "                             ProdID  \\\n",
       "0  43844b4d01b62ddf5b329af60afd243a   \n",
       "1  56182586933bbdea8c572b0af1af513b   \n",
       "2  446f1f57405d2df74e8d89a8dbd458ba   \n",
       "3  658e17ace9dd43ba0541c590434eb34e   \n",
       "4  ca95004fec7e177cbbb8c735db5d4a82   \n",
       "\n",
       "                                            Category      Brand  \\\n",
       "0     Personal Care > Personal Care by Brand > Crest      Crest   \n",
       "1  Premium Beauty > Premium Hair Care > Premium H...  Kerastase   \n",
       "2     Health > Protein & Fitness > Fuel Your Workout       Vega   \n",
       "3  Premium Beauty > Premium Makeup > Premium Face...        Mac   \n",
       "4             Home > Bath > Bath Towels > Washcloths    Prevail   \n",
       "\n",
       "                                                Name  \\\n",
       "0  Crest Pls Sc Outlst Ex Wh Size 4z Crest Extra ...   \n",
       "1            Kerastase Discipline Maskeratine, 500ml   \n",
       "2  Vega Protein Made Simple, Vanilla, 10 Servings...   \n",
       "3                     MAC Mineralize Concealer, NW35   \n",
       "4  Prevail Premium Quilted Adult Washcloths, 48 C...   \n",
       "\n",
       "                                            ImageURL  \\\n",
       "0  https://i5.walmartimages.com/asr/8604b82d-4c15...   \n",
       "1  https://i5.walmartimages.com/asr/0e200420-2b90...   \n",
       "2  https://i5.walmartimages.com/asr/0766d3dd-737c...   \n",
       "3  https://i5.walmartimages.com/asr/cffd0ed5-1d66...   \n",
       "4  https://i5.walmartimages.com/asr/f3c2a1c5-042d...   \n",
       "\n",
       "                                         Description  \\\n",
       "0  DetailsCrest Extra White Plus Outlast Toothpas...   \n",
       "1                                                      \n",
       "2  Whatâ€™s on the inside matters. Thatâ€™s why V...   \n",
       "3                                                      \n",
       "4                                                      \n",
       "\n",
       "                                                Tags  \n",
       "0  Crest Pls Sc Outlst Ex Wh Size 4z Crest Extra ...  \n",
       "1  Kerastase Discipline Maskeratine, 500ml, Wal-m...  \n",
       "2  Vega Protein Made Simple, Vanilla, 10 Servings...  \n",
       "3  MAC Mineralize Concealer, NW35, Wal-mart, Walm...  \n",
       "4  Prevail Premium Quilted Adult Washcloths, 48 C...  "
      ]
     },
     "execution_count": 85,
     "metadata": {},
     "output_type": "execute_result"
    }
   ],
   "source": [
    "df_product_data.head(5)"
   ]
  },
  {
   "cell_type": "code",
   "execution_count": 64,
   "id": "76da4e2d",
   "metadata": {},
   "outputs": [],
   "source": [
    "df_product_data[['Category', 'Brand', 'Name', 'ImageURL', 'Description', 'Tags']] = (\n",
    "    df_product_data.groupby('ProdID')[['Category', 'Brand', 'Name', 'ImageURL', 'Description', 'Tags']]\n",
    "    .transform('first')  # Use the first value from each group\n",
    ")"
   ]
  },
  {
   "cell_type": "code",
   "execution_count": 70,
   "id": "36b1a38d",
   "metadata": {},
   "outputs": [],
   "source": [
    "df_product_data[['Category', 'Brand', 'Name', 'ImageURL', 'Description', 'Tags']] = (\n",
    "    df_product_data.groupby('ProdID')[['Category', 'Brand', 'Name', 'ImageURL', 'Description', 'Tags']]\n",
    "    .transform(lambda group: group.ffill().bfill())  # Fill missing values\n",
    ")"
   ]
  },
  {
   "cell_type": "code",
   "execution_count": 88,
   "id": "c71865cd",
   "metadata": {},
   "outputs": [
    {
     "data": {
      "text/plain": [
       "2220"
      ]
     },
     "execution_count": 88,
     "metadata": {},
     "output_type": "execute_result"
    }
   ],
   "source": [
    "df_product_data['Name'].nunique()"
   ]
  },
  {
   "cell_type": "code",
   "execution_count": 87,
   "id": "e63f97d9",
   "metadata": {},
   "outputs": [
    {
     "data": {
      "text/plain": [
       "2220"
      ]
     },
     "execution_count": 87,
     "metadata": {},
     "output_type": "execute_result"
    }
   ],
   "source": [
    "df_product_data['ProdID'].nunique()"
   ]
  },
  {
   "cell_type": "code",
   "execution_count": 83,
   "id": "0fdfb24f",
   "metadata": {},
   "outputs": [],
   "source": [
    "# Resample to 6000 rows with replacement\n",
    "df_product_data = df_product_data.sample(n=6000, replace=True, random_state=42).reset_index(drop=True)"
   ]
  },
  {
   "cell_type": "code",
   "execution_count": 89,
   "id": "2de879e7",
   "metadata": {},
   "outputs": [
    {
     "data": {
      "text/plain": [
       "ProdID         0\n",
       "Category       0\n",
       "Brand          0\n",
       "Name           0\n",
       "ImageURL       0\n",
       "Description    0\n",
       "Tags           0\n",
       "dtype: int64"
      ]
     },
     "execution_count": 89,
     "metadata": {},
     "output_type": "execute_result"
    }
   ],
   "source": [
    "df_product_data.isnull().sum()"
   ]
  },
  {
   "cell_type": "code",
   "execution_count": null,
   "id": "9dc72ebe",
   "metadata": {},
   "outputs": [],
   "source": []
  },
  {
   "cell_type": "code",
   "execution_count": 91,
   "id": "157ab965",
   "metadata": {},
   "outputs": [],
   "source": [
    "user_ids = [f\"USER_{i}\" for i in range(1, 1401)]"
   ]
  },
  {
   "cell_type": "code",
   "execution_count": 92,
   "id": "ceec8627",
   "metadata": {},
   "outputs": [],
   "source": [
    "# Step 2: Randomly assign user_ids to the 6000 rows\n",
    "df_product_data['user_id'] = np.random.choice(user_ids, size=6000, replace=True)"
   ]
  },
  {
   "cell_type": "code",
   "execution_count": 93,
   "id": "69f42d20",
   "metadata": {},
   "outputs": [
    {
     "data": {
      "text/plain": [
       "(6000, 8)"
      ]
     },
     "execution_count": 93,
     "metadata": {},
     "output_type": "execute_result"
    }
   ],
   "source": [
    "df_product_data.shape"
   ]
  },
  {
   "cell_type": "code",
   "execution_count": 107,
   "id": "22c0b7bf",
   "metadata": {},
   "outputs": [
    {
     "data": {
      "text/html": [
       "<div>\n",
       "<style scoped>\n",
       "    .dataframe tbody tr th:only-of-type {\n",
       "        vertical-align: middle;\n",
       "    }\n",
       "\n",
       "    .dataframe tbody tr th {\n",
       "        vertical-align: top;\n",
       "    }\n",
       "\n",
       "    .dataframe thead th {\n",
       "        text-align: right;\n",
       "    }\n",
       "</style>\n",
       "<table border=\"1\" class=\"dataframe\">\n",
       "  <thead>\n",
       "    <tr style=\"text-align: right;\">\n",
       "      <th></th>\n",
       "      <th>user_id</th>\n",
       "      <th>ProdID</th>\n",
       "      <th>Category</th>\n",
       "      <th>Brand</th>\n",
       "      <th>Name</th>\n",
       "      <th>ImageURL</th>\n",
       "      <th>Description</th>\n",
       "      <th>Tags</th>\n",
       "      <th>Rating</th>\n",
       "    </tr>\n",
       "  </thead>\n",
       "  <tbody>\n",
       "    <tr>\n",
       "      <th>0</th>\n",
       "      <td>USER_161</td>\n",
       "      <td>43844b4d01b62ddf5b329af60afd243a</td>\n",
       "      <td>Personal Care &gt; Personal Care by Brand &gt; Crest</td>\n",
       "      <td>Crest</td>\n",
       "      <td>Crest Pls Sc Outlst Ex Wh Size 4z Crest Extra ...</td>\n",
       "      <td>https://i5.walmartimages.com/asr/8604b82d-4c15...</td>\n",
       "      <td>DetailsCrest Extra White Plus Outlast Toothpas...</td>\n",
       "      <td>Crest Pls Sc Outlst Ex Wh Size 4z Crest Extra ...</td>\n",
       "      <td>4</td>\n",
       "    </tr>\n",
       "    <tr>\n",
       "      <th>1</th>\n",
       "      <td>USER_42</td>\n",
       "      <td>56182586933bbdea8c572b0af1af513b</td>\n",
       "      <td>Premium Beauty &gt; Premium Hair Care &gt; Premium H...</td>\n",
       "      <td>Kerastase</td>\n",
       "      <td>Kerastase Discipline Maskeratine, 500ml</td>\n",
       "      <td>https://i5.walmartimages.com/asr/0e200420-2b90...</td>\n",
       "      <td></td>\n",
       "      <td>Kerastase Discipline Maskeratine, 500ml, Wal-m...</td>\n",
       "      <td>3</td>\n",
       "    </tr>\n",
       "    <tr>\n",
       "      <th>2</th>\n",
       "      <td>USER_1335</td>\n",
       "      <td>446f1f57405d2df74e8d89a8dbd458ba</td>\n",
       "      <td>Health &gt; Protein &amp; Fitness &gt; Fuel Your Workout</td>\n",
       "      <td>Vega</td>\n",
       "      <td>Vega Protein Made Simple, Vanilla, 10 Servings...</td>\n",
       "      <td>https://i5.walmartimages.com/asr/0766d3dd-737c...</td>\n",
       "      <td>Whatâ€™s on the inside matters. Thatâ€™s why V...</td>\n",
       "      <td>Vega Protein Made Simple, Vanilla, 10 Servings...</td>\n",
       "      <td>3</td>\n",
       "    </tr>\n",
       "    <tr>\n",
       "      <th>3</th>\n",
       "      <td>USER_34</td>\n",
       "      <td>658e17ace9dd43ba0541c590434eb34e</td>\n",
       "      <td>Premium Beauty &gt; Premium Makeup &gt; Premium Face...</td>\n",
       "      <td>Mac</td>\n",
       "      <td>MAC Mineralize Concealer, NW35</td>\n",
       "      <td>https://i5.walmartimages.com/asr/cffd0ed5-1d66...</td>\n",
       "      <td></td>\n",
       "      <td>MAC Mineralize Concealer, NW35, Wal-mart, Walm...</td>\n",
       "      <td>1</td>\n",
       "    </tr>\n",
       "    <tr>\n",
       "      <th>4</th>\n",
       "      <td>USER_422</td>\n",
       "      <td>ca95004fec7e177cbbb8c735db5d4a82</td>\n",
       "      <td>Home &gt; Bath &gt; Bath Towels &gt; Washcloths</td>\n",
       "      <td>Prevail</td>\n",
       "      <td>Prevail Premium Quilted Adult Washcloths, 48 C...</td>\n",
       "      <td>https://i5.walmartimages.com/asr/f3c2a1c5-042d...</td>\n",
       "      <td></td>\n",
       "      <td>Prevail Premium Quilted Adult Washcloths, 48 C...</td>\n",
       "      <td>3</td>\n",
       "    </tr>\n",
       "  </tbody>\n",
       "</table>\n",
       "</div>"
      ],
      "text/plain": [
       "     user_id                            ProdID  \\\n",
       "0   USER_161  43844b4d01b62ddf5b329af60afd243a   \n",
       "1    USER_42  56182586933bbdea8c572b0af1af513b   \n",
       "2  USER_1335  446f1f57405d2df74e8d89a8dbd458ba   \n",
       "3    USER_34  658e17ace9dd43ba0541c590434eb34e   \n",
       "4   USER_422  ca95004fec7e177cbbb8c735db5d4a82   \n",
       "\n",
       "                                            Category      Brand  \\\n",
       "0     Personal Care > Personal Care by Brand > Crest      Crest   \n",
       "1  Premium Beauty > Premium Hair Care > Premium H...  Kerastase   \n",
       "2     Health > Protein & Fitness > Fuel Your Workout       Vega   \n",
       "3  Premium Beauty > Premium Makeup > Premium Face...        Mac   \n",
       "4             Home > Bath > Bath Towels > Washcloths    Prevail   \n",
       "\n",
       "                                                Name  \\\n",
       "0  Crest Pls Sc Outlst Ex Wh Size 4z Crest Extra ...   \n",
       "1            Kerastase Discipline Maskeratine, 500ml   \n",
       "2  Vega Protein Made Simple, Vanilla, 10 Servings...   \n",
       "3                     MAC Mineralize Concealer, NW35   \n",
       "4  Prevail Premium Quilted Adult Washcloths, 48 C...   \n",
       "\n",
       "                                            ImageURL  \\\n",
       "0  https://i5.walmartimages.com/asr/8604b82d-4c15...   \n",
       "1  https://i5.walmartimages.com/asr/0e200420-2b90...   \n",
       "2  https://i5.walmartimages.com/asr/0766d3dd-737c...   \n",
       "3  https://i5.walmartimages.com/asr/cffd0ed5-1d66...   \n",
       "4  https://i5.walmartimages.com/asr/f3c2a1c5-042d...   \n",
       "\n",
       "                                         Description  \\\n",
       "0  DetailsCrest Extra White Plus Outlast Toothpas...   \n",
       "1                                                      \n",
       "2  Whatâ€™s on the inside matters. Thatâ€™s why V...   \n",
       "3                                                      \n",
       "4                                                      \n",
       "\n",
       "                                                Tags  Rating  \n",
       "0  Crest Pls Sc Outlst Ex Wh Size 4z Crest Extra ...       4  \n",
       "1  Kerastase Discipline Maskeratine, 500ml, Wal-m...       3  \n",
       "2  Vega Protein Made Simple, Vanilla, 10 Servings...       3  \n",
       "3  MAC Mineralize Concealer, NW35, Wal-mart, Walm...       1  \n",
       "4  Prevail Premium Quilted Adult Washcloths, 48 C...       3  "
      ]
     },
     "execution_count": 107,
     "metadata": {},
     "output_type": "execute_result"
    }
   ],
   "source": [
    "df_product_data.head()"
   ]
  },
  {
   "cell_type": "code",
   "execution_count": 104,
   "id": "d56a4307",
   "metadata": {},
   "outputs": [
    {
     "name": "stderr",
     "output_type": "stream",
     "text": [
      "C:\\Users\\ujair shaha\\AppData\\Local\\Temp\\ipykernel_18632\\3109040043.py:1: SettingWithCopyWarning: \n",
      "A value is trying to be set on a copy of a slice from a DataFrame.\n",
      "Try using .loc[row_indexer,col_indexer] = value instead\n",
      "\n",
      "See the caveats in the documentation: https://pandas.pydata.org/pandas-docs/stable/user_guide/indexing.html#returning-a-view-versus-a-copy\n",
      "  df_product_data['Rating'] = np.random.randint(0, 5, size=6000)\n"
     ]
    }
   ],
   "source": [
    "df_product_data['Rating'] = np.random.randint(0, 5, size=6000)"
   ]
  },
  {
   "cell_type": "code",
   "execution_count": 109,
   "id": "79f472d4",
   "metadata": {},
   "outputs": [],
   "source": [
    "# Extracting values before the first '>' in the 'Category' column\n",
    "df_product_data['Category'] = df_product_data['Category'].str.split('>').str[0]"
   ]
  },
  {
   "cell_type": "code",
   "execution_count": 110,
   "id": "08732036",
   "metadata": {},
   "outputs": [
    {
     "data": {
      "text/html": [
       "<div>\n",
       "<style scoped>\n",
       "    .dataframe tbody tr th:only-of-type {\n",
       "        vertical-align: middle;\n",
       "    }\n",
       "\n",
       "    .dataframe tbody tr th {\n",
       "        vertical-align: top;\n",
       "    }\n",
       "\n",
       "    .dataframe thead th {\n",
       "        text-align: right;\n",
       "    }\n",
       "</style>\n",
       "<table border=\"1\" class=\"dataframe\">\n",
       "  <thead>\n",
       "    <tr style=\"text-align: right;\">\n",
       "      <th></th>\n",
       "      <th>user_id</th>\n",
       "      <th>ProdID</th>\n",
       "      <th>Category</th>\n",
       "      <th>Brand</th>\n",
       "      <th>Name</th>\n",
       "      <th>ImageURL</th>\n",
       "      <th>Description</th>\n",
       "      <th>Tags</th>\n",
       "      <th>Rating</th>\n",
       "    </tr>\n",
       "  </thead>\n",
       "  <tbody>\n",
       "    <tr>\n",
       "      <th>0</th>\n",
       "      <td>USER_161</td>\n",
       "      <td>43844b4d01b62ddf5b329af60afd243a</td>\n",
       "      <td>Personal Care</td>\n",
       "      <td>Crest</td>\n",
       "      <td>Crest Pls Sc Outlst Ex Wh Size 4z Crest Extra ...</td>\n",
       "      <td>https://i5.walmartimages.com/asr/8604b82d-4c15...</td>\n",
       "      <td>DetailsCrest Extra White Plus Outlast Toothpas...</td>\n",
       "      <td>Crest Pls Sc Outlst Ex Wh Size 4z Crest Extra ...</td>\n",
       "      <td>4</td>\n",
       "    </tr>\n",
       "    <tr>\n",
       "      <th>1</th>\n",
       "      <td>USER_42</td>\n",
       "      <td>56182586933bbdea8c572b0af1af513b</td>\n",
       "      <td>Premium Beauty</td>\n",
       "      <td>Kerastase</td>\n",
       "      <td>Kerastase Discipline Maskeratine, 500ml</td>\n",
       "      <td>https://i5.walmartimages.com/asr/0e200420-2b90...</td>\n",
       "      <td></td>\n",
       "      <td>Kerastase Discipline Maskeratine, 500ml, Wal-m...</td>\n",
       "      <td>3</td>\n",
       "    </tr>\n",
       "    <tr>\n",
       "      <th>2</th>\n",
       "      <td>USER_1335</td>\n",
       "      <td>446f1f57405d2df74e8d89a8dbd458ba</td>\n",
       "      <td>Health</td>\n",
       "      <td>Vega</td>\n",
       "      <td>Vega Protein Made Simple, Vanilla, 10 Servings...</td>\n",
       "      <td>https://i5.walmartimages.com/asr/0766d3dd-737c...</td>\n",
       "      <td>Whatâ€™s on the inside matters. Thatâ€™s why V...</td>\n",
       "      <td>Vega Protein Made Simple, Vanilla, 10 Servings...</td>\n",
       "      <td>3</td>\n",
       "    </tr>\n",
       "    <tr>\n",
       "      <th>3</th>\n",
       "      <td>USER_34</td>\n",
       "      <td>658e17ace9dd43ba0541c590434eb34e</td>\n",
       "      <td>Premium Beauty</td>\n",
       "      <td>Mac</td>\n",
       "      <td>MAC Mineralize Concealer, NW35</td>\n",
       "      <td>https://i5.walmartimages.com/asr/cffd0ed5-1d66...</td>\n",
       "      <td></td>\n",
       "      <td>MAC Mineralize Concealer, NW35, Wal-mart, Walm...</td>\n",
       "      <td>1</td>\n",
       "    </tr>\n",
       "    <tr>\n",
       "      <th>4</th>\n",
       "      <td>USER_422</td>\n",
       "      <td>ca95004fec7e177cbbb8c735db5d4a82</td>\n",
       "      <td>Home</td>\n",
       "      <td>Prevail</td>\n",
       "      <td>Prevail Premium Quilted Adult Washcloths, 48 C...</td>\n",
       "      <td>https://i5.walmartimages.com/asr/f3c2a1c5-042d...</td>\n",
       "      <td></td>\n",
       "      <td>Prevail Premium Quilted Adult Washcloths, 48 C...</td>\n",
       "      <td>3</td>\n",
       "    </tr>\n",
       "  </tbody>\n",
       "</table>\n",
       "</div>"
      ],
      "text/plain": [
       "     user_id                            ProdID         Category      Brand  \\\n",
       "0   USER_161  43844b4d01b62ddf5b329af60afd243a   Personal Care       Crest   \n",
       "1    USER_42  56182586933bbdea8c572b0af1af513b  Premium Beauty   Kerastase   \n",
       "2  USER_1335  446f1f57405d2df74e8d89a8dbd458ba          Health        Vega   \n",
       "3    USER_34  658e17ace9dd43ba0541c590434eb34e  Premium Beauty         Mac   \n",
       "4   USER_422  ca95004fec7e177cbbb8c735db5d4a82            Home     Prevail   \n",
       "\n",
       "                                                Name  \\\n",
       "0  Crest Pls Sc Outlst Ex Wh Size 4z Crest Extra ...   \n",
       "1            Kerastase Discipline Maskeratine, 500ml   \n",
       "2  Vega Protein Made Simple, Vanilla, 10 Servings...   \n",
       "3                     MAC Mineralize Concealer, NW35   \n",
       "4  Prevail Premium Quilted Adult Washcloths, 48 C...   \n",
       "\n",
       "                                            ImageURL  \\\n",
       "0  https://i5.walmartimages.com/asr/8604b82d-4c15...   \n",
       "1  https://i5.walmartimages.com/asr/0e200420-2b90...   \n",
       "2  https://i5.walmartimages.com/asr/0766d3dd-737c...   \n",
       "3  https://i5.walmartimages.com/asr/cffd0ed5-1d66...   \n",
       "4  https://i5.walmartimages.com/asr/f3c2a1c5-042d...   \n",
       "\n",
       "                                         Description  \\\n",
       "0  DetailsCrest Extra White Plus Outlast Toothpas...   \n",
       "1                                                      \n",
       "2  Whatâ€™s on the inside matters. Thatâ€™s why V...   \n",
       "3                                                      \n",
       "4                                                      \n",
       "\n",
       "                                                Tags  Rating  \n",
       "0  Crest Pls Sc Outlst Ex Wh Size 4z Crest Extra ...       4  \n",
       "1  Kerastase Discipline Maskeratine, 500ml, Wal-m...       3  \n",
       "2  Vega Protein Made Simple, Vanilla, 10 Servings...       3  \n",
       "3  MAC Mineralize Concealer, NW35, Wal-mart, Walm...       1  \n",
       "4  Prevail Premium Quilted Adult Washcloths, 48 C...       3  "
      ]
     },
     "execution_count": 110,
     "metadata": {},
     "output_type": "execute_result"
    }
   ],
   "source": [
    "df_product_data.head()"
   ]
  },
  {
   "cell_type": "code",
   "execution_count": 111,
   "id": "0d5d53a7",
   "metadata": {},
   "outputs": [],
   "source": [
    "df_product_data.to_csv('Final_Walmart_Product_Data.csv' ,index=False)"
   ]
  }
 ],
 "metadata": {
  "kernelspec": {
   "display_name": "Python 3 (ipykernel)",
   "language": "python",
   "name": "python3"
  },
  "language_info": {
   "codemirror_mode": {
    "name": "ipython",
    "version": 3
   },
   "file_extension": ".py",
   "mimetype": "text/x-python",
   "name": "python",
   "nbconvert_exporter": "python",
   "pygments_lexer": "ipython3",
   "version": "3.9.12"
  }
 },
 "nbformat": 4,
 "nbformat_minor": 5
}
